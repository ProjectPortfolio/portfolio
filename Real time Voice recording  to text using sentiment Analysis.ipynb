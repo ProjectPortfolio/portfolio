{
 "cells": [
  {
   "cell_type": "code",
   "execution_count": 1,
   "metadata": {},
   "outputs": [],
   "source": [
    "import nltk\n",
    "import speech_recognition as sr"
   ]
  },
  {
   "cell_type": "code",
   "execution_count": 25,
   "metadata": {},
   "outputs": [],
   "source": [
    "from textblob import TextBlob\n"
   ]
  },
  {
   "cell_type": "code",
   "execution_count": 20,
   "metadata": {},
   "outputs": [],
   "source": [
    "#audio Recgnizer object\n",
    "r = sr.Recognizer()"
   ]
  },
  {
   "cell_type": "code",
   "execution_count": 21,
   "metadata": {},
   "outputs": [
    {
     "name": "stdout",
     "output_type": "stream",
     "text": [
      "Please Say Something: \n",
      "Sorry ... Try Again\n"
     ]
    }
   ],
   "source": [
    "#code for. Real time audio Recording and convert into Text\n",
    "with sr.Microphone() as source:\n",
    "    print('Please Say Something: ')\n",
    "    audio = r.listen(source,timeout = 2)\n",
    "    try :\n",
    "        text = r.recognize_google(audio)\n",
    "        tb = TextBlob(text)\n",
    "        print(tb)\n",
    "        print(tb.sentiment)\n",
    "    except :\n",
    "        print(\"Sorry ... Try Again\")\n",
    "        \n",
    "    "
   ]
  },
  {
   "cell_type": "code",
   "execution_count": 24,
   "metadata": {},
   "outputs": [
    {
     "name": "stdout",
     "output_type": "stream",
     "text": [
      "\n",
      "Please Say Something\n",
      "hello Banda photo what time in a sentiment analysis with help of a lot\n",
      "Sentiment(polarity=0.0, subjectivity=0.0)\n",
      "\n",
      "Please Say Something\n",
      "think about things which we can perfectly match\n",
      "Sentiment(polarity=1.0, subjectivity=1.0)\n",
      "\n",
      "Please Say Something\n",
      "Sorry ... Try Again\n",
      "\n",
      "Please Say Something\n",
      "Sorry ... Try Again\n",
      "\n",
      "Please Say Something\n",
      "Sorry ... Try Again\n",
      "\n",
      "Please Say Something\n",
      "Sorry ... Try Again\n",
      "\n",
      "Please Say Something\n",
      "Sorry ... Try Again\n",
      "\n",
      "Please Say Something\n",
      "Sorry ... Try Again\n",
      "\n",
      "Please Say Something\n",
      "Sorry ... Try Again\n",
      "\n",
      "Please Say Something\n",
      "Sorry ... Try Again\n"
     ]
    }
   ],
   "source": [
    "#for more than one time \n",
    "iter_num = 10\n",
    "index = 0\n",
    "while(index < iter_num):\n",
    "    with sr.Microphone() as source:\n",
    "        print()\n",
    "        print(\"Please Say Something\")\n",
    "        audio = r.listen(source,timeout =3)\n",
    "        try :\n",
    "            text = r.recognize_google(audio) \n",
    "            tb = TextBlob(text) #convert audio into text\n",
    "            print(tb)\n",
    "            print(tb.sentiment)\n",
    "        except :\n",
    "            print(\"Sorry ... Try Again\")\n",
    "        index = index+1\n",
    "            "
   ]
  },
  {
   "cell_type": "code",
   "execution_count": null,
   "metadata": {},
   "outputs": [],
   "source": []
  }
 ],
 "metadata": {
  "kernelspec": {
   "display_name": "Python 3",
   "language": "python",
   "name": "python3"
  },
  "language_info": {
   "codemirror_mode": {
    "name": "ipython",
    "version": 3
   },
   "file_extension": ".py",
   "mimetype": "text/x-python",
   "name": "python",
   "nbconvert_exporter": "python",
   "pygments_lexer": "ipython3",
   "version": "3.7.4"
  }
 },
 "nbformat": 4,
 "nbformat_minor": 2
}
