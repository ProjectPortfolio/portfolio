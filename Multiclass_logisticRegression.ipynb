{
  "nbformat": 4,
  "nbformat_minor": 0,
  "metadata": {
    "colab": {
      "name": "Multiclass_logisticRegression.ipynb",
      "provenance": [],
      "authorship_tag": "ABX9TyOpZnX6X9y3AYDwPQbFUbaP",
      "include_colab_link": true
    },
    "kernelspec": {
      "name": "python3",
      "display_name": "Python 3"
    }
  },
  "cells": [
    {
      "cell_type": "markdown",
      "metadata": {
        "id": "view-in-github",
        "colab_type": "text"
      },
      "source": [
        "<a href=\"https://colab.research.google.com/github/ProjectPortfolio/portfolio/blob/master/Multiclass_logisticRegression.ipynb\" target=\"_parent\"><img src=\"https://colab.research.google.com/assets/colab-badge.svg\" alt=\"Open In Colab\"/></a>"
      ]
    },
    {
      "cell_type": "code",
      "metadata": {
        "id": "2NQQJUyzEnbl"
      },
      "source": [
        "import pandas as pd\n",
        "import matplotlib.pyplot as plt\n",
        "%matplotlib inline"
      ],
      "execution_count": 20,
      "outputs": []
    },
    {
      "cell_type": "code",
      "metadata": {
        "id": "G_kCz_4WFBOf"
      },
      "source": [
        "dataset = pd.read_csv('/content/insurance.csv')"
      ],
      "execution_count": 21,
      "outputs": []
    },
    {
      "cell_type": "code",
      "metadata": {
        "id": "khZy3HYvFhum",
        "outputId": "81bcbf32-593b-4bec-aca5-fe0bc446b441",
        "colab": {
          "base_uri": "https://localhost:8080/",
          "height": 204
        }
      },
      "source": [
        "dataset.head()"
      ],
      "execution_count": 22,
      "outputs": [
        {
          "output_type": "execute_result",
          "data": {
            "text/html": [
              "<div>\n",
              "<style scoped>\n",
              "    .dataframe tbody tr th:only-of-type {\n",
              "        vertical-align: middle;\n",
              "    }\n",
              "\n",
              "    .dataframe tbody tr th {\n",
              "        vertical-align: top;\n",
              "    }\n",
              "\n",
              "    .dataframe thead th {\n",
              "        text-align: right;\n",
              "    }\n",
              "</style>\n",
              "<table border=\"1\" class=\"dataframe\">\n",
              "  <thead>\n",
              "    <tr style=\"text-align: right;\">\n",
              "      <th></th>\n",
              "      <th>age</th>\n",
              "      <th>sex</th>\n",
              "      <th>bmi</th>\n",
              "      <th>children</th>\n",
              "      <th>smoker</th>\n",
              "      <th>region</th>\n",
              "      <th>charges</th>\n",
              "    </tr>\n",
              "  </thead>\n",
              "  <tbody>\n",
              "    <tr>\n",
              "      <th>0</th>\n",
              "      <td>19</td>\n",
              "      <td>female</td>\n",
              "      <td>27.900</td>\n",
              "      <td>0</td>\n",
              "      <td>yes</td>\n",
              "      <td>southwest</td>\n",
              "      <td>16884.92400</td>\n",
              "    </tr>\n",
              "    <tr>\n",
              "      <th>1</th>\n",
              "      <td>18</td>\n",
              "      <td>male</td>\n",
              "      <td>33.770</td>\n",
              "      <td>1</td>\n",
              "      <td>no</td>\n",
              "      <td>southeast</td>\n",
              "      <td>1725.55230</td>\n",
              "    </tr>\n",
              "    <tr>\n",
              "      <th>2</th>\n",
              "      <td>28</td>\n",
              "      <td>male</td>\n",
              "      <td>33.000</td>\n",
              "      <td>3</td>\n",
              "      <td>no</td>\n",
              "      <td>southeast</td>\n",
              "      <td>4449.46200</td>\n",
              "    </tr>\n",
              "    <tr>\n",
              "      <th>3</th>\n",
              "      <td>33</td>\n",
              "      <td>male</td>\n",
              "      <td>22.705</td>\n",
              "      <td>0</td>\n",
              "      <td>no</td>\n",
              "      <td>northwest</td>\n",
              "      <td>21984.47061</td>\n",
              "    </tr>\n",
              "    <tr>\n",
              "      <th>4</th>\n",
              "      <td>32</td>\n",
              "      <td>male</td>\n",
              "      <td>28.880</td>\n",
              "      <td>0</td>\n",
              "      <td>no</td>\n",
              "      <td>northwest</td>\n",
              "      <td>3866.85520</td>\n",
              "    </tr>\n",
              "  </tbody>\n",
              "</table>\n",
              "</div>"
            ],
            "text/plain": [
              "   age     sex     bmi  children smoker     region      charges\n",
              "0   19  female  27.900         0    yes  southwest  16884.92400\n",
              "1   18    male  33.770         1     no  southeast   1725.55230\n",
              "2   28    male  33.000         3     no  southeast   4449.46200\n",
              "3   33    male  22.705         0     no  northwest  21984.47061\n",
              "4   32    male  28.880         0     no  northwest   3866.85520"
            ]
          },
          "metadata": {
            "tags": []
          },
          "execution_count": 22
        }
      ]
    },
    {
      "cell_type": "code",
      "metadata": {
        "id": "xVG6R3qbFjyG",
        "outputId": "a59ed566-df17-4ea8-d6de-f3d4a2ca7313",
        "colab": {
          "base_uri": "https://localhost:8080/",
          "height": 153
        }
      },
      "source": [
        "dataset.isnull().sum() #checking null value"
      ],
      "execution_count": 23,
      "outputs": [
        {
          "output_type": "execute_result",
          "data": {
            "text/plain": [
              "age         0\n",
              "sex         0\n",
              "bmi         0\n",
              "children    0\n",
              "smoker      0\n",
              "region      0\n",
              "charges     0\n",
              "dtype: int64"
            ]
          },
          "metadata": {
            "tags": []
          },
          "execution_count": 23
        }
      ]
    },
    {
      "cell_type": "code",
      "metadata": {
        "id": "dzWVVO_mFo6Y",
        "outputId": "13d10f1c-a35f-494f-d15d-92fac0ec6a77",
        "colab": {
          "base_uri": "https://localhost:8080/",
          "height": 282
        }
      },
      "source": [
        "#data exploration will perform for that use scatterplot\n",
        "#for x use  age and for y use smoker\n",
        "plt.scatter(dataset.age,dataset.smoker,marker='+',color='red')"
      ],
      "execution_count": 24,
      "outputs": [
        {
          "output_type": "execute_result",
          "data": {
            "text/plain": [
              "<matplotlib.collections.PathCollection at 0x7f16305f9c88>"
            ]
          },
          "metadata": {
            "tags": []
          },
          "execution_count": 24
        },
        {
          "output_type": "display_data",
          "data": {
            "image/png": "[encoded data removed]",
            "text/plain": [
              "<Figure size 432x288 with 1 Axes>"
            ]
          },
          "metadata": {
            "tags": [],
            "needs_background": "light"
          }
        }
      ]
    },
    {
      "cell_type": "code",
      "metadata": {
        "id": "Q8vY0LZgNfmh",
        "outputId": "edeed277-7e63-4a1c-987c-1b46b75bd494",
        "colab": {
          "base_uri": "https://localhost:8080/",
          "height": 34
        }
      },
      "source": [
        "#check categories in particular domain\n",
        "dataset.region.unique()"
      ],
      "execution_count": 26,
      "outputs": [
        {
          "output_type": "execute_result",
          "data": {
            "text/plain": [
              "array(['southwest', 'southeast', 'northwest', 'northeast'], dtype=object)"
            ]
          },
          "metadata": {
            "tags": []
          },
          "execution_count": 26
        }
      ]
    },
    {
      "cell_type": "code",
      "metadata": {
        "id": "Mr48JFUmNqx2",
        "outputId": "8b285f03-a772-46ac-ea2e-c5b342d591e0",
        "colab": {
          "base_uri": "https://localhost:8080/",
          "height": 34
        }
      },
      "source": [
        "dataset.sex.unique()"
      ],
      "execution_count": 27,
      "outputs": [
        {
          "output_type": "execute_result",
          "data": {
            "text/plain": [
              "array(['female', 'male'], dtype=object)"
            ]
          },
          "metadata": {
            "tags": []
          },
          "execution_count": 27
        }
      ]
    },
    {
      "cell_type": "code",
      "metadata": {
        "id": "V845Q1nJOG12"
      },
      "source": [
        "dummies = pd.get_dummies(dataset.sex)\n"
      ],
      "execution_count": 28,
      "outputs": []
    },
    {
      "cell_type": "code",
      "metadata": {
        "id": "HkY_SkmaOUPb",
        "outputId": "7e47a1b8-d2ac-4b84-8ba4-55e1725f1ed7",
        "colab": {
          "base_uri": "https://localhost:8080/",
          "height": 419
        }
      },
      "source": [
        "dummies"
      ],
      "execution_count": 29,
      "outputs": [
        {
          "output_type": "execute_result",
          "data": {
            "text/html": [
              "<div>\n",
              "<style scoped>\n",
              "    .dataframe tbody tr th:only-of-type {\n",
              "        vertical-align: middle;\n",
              "    }\n",
              "\n",
              "    .dataframe tbody tr th {\n",
              "        vertical-align: top;\n",
              "    }\n",
              "\n",
              "    .dataframe thead th {\n",
              "        text-align: right;\n",
              "    }\n",
              "</style>\n",
              "<table border=\"1\" class=\"dataframe\">\n",
              "  <thead>\n",
              "    <tr style=\"text-align: right;\">\n",
              "      <th></th>\n",
              "      <th>female</th>\n",
              "      <th>male</th>\n",
              "    </tr>\n",
              "  </thead>\n",
              "  <tbody>\n",
              "    <tr>\n",
              "      <th>0</th>\n",
              "      <td>1</td>\n",
              "      <td>0</td>\n",
              "    </tr>\n",
              "    <tr>\n",
              "      <th>1</th>\n",
              "      <td>0</td>\n",
              "      <td>1</td>\n",
              "    </tr>\n",
              "    <tr>\n",
              "      <th>2</th>\n",
              "      <td>0</td>\n",
              "      <td>1</td>\n",
              "    </tr>\n",
              "    <tr>\n",
              "      <th>3</th>\n",
              "      <td>0</td>\n",
              "      <td>1</td>\n",
              "    </tr>\n",
              "    <tr>\n",
              "      <th>4</th>\n",
              "      <td>0</td>\n",
              "      <td>1</td>\n",
              "    </tr>\n",
              "    <tr>\n",
              "      <th>...</th>\n",
              "      <td>...</td>\n",
              "      <td>...</td>\n",
              "    </tr>\n",
              "    <tr>\n",
              "      <th>1333</th>\n",
              "      <td>0</td>\n",
              "      <td>1</td>\n",
              "    </tr>\n",
              "    <tr>\n",
              "      <th>1334</th>\n",
              "      <td>1</td>\n",
              "      <td>0</td>\n",
              "    </tr>\n",
              "    <tr>\n",
              "      <th>1335</th>\n",
              "      <td>1</td>\n",
              "      <td>0</td>\n",
              "    </tr>\n",
              "    <tr>\n",
              "      <th>1336</th>\n",
              "      <td>1</td>\n",
              "      <td>0</td>\n",
              "    </tr>\n",
              "    <tr>\n",
              "      <th>1337</th>\n",
              "      <td>1</td>\n",
              "      <td>0</td>\n",
              "    </tr>\n",
              "  </tbody>\n",
              "</table>\n",
              "<p>1338 rows × 2 columns</p>\n",
              "</div>"
            ],
            "text/plain": [
              "      female  male\n",
              "0          1     0\n",
              "1          0     1\n",
              "2          0     1\n",
              "3          0     1\n",
              "4          0     1\n",
              "...      ...   ...\n",
              "1333       0     1\n",
              "1334       1     0\n",
              "1335       1     0\n",
              "1336       1     0\n",
              "1337       1     0\n",
              "\n",
              "[1338 rows x 2 columns]"
            ]
          },
          "metadata": {
            "tags": []
          },
          "execution_count": 29
        }
      ]
    },
    {
      "cell_type": "code",
      "metadata": {
        "id": "VraYHA0-OVnj"
      },
      "source": [
        "merge_dataset = pd.concat([dataset,dummies],axis='columns')"
      ],
      "execution_count": 31,
      "outputs": []
    },
    {
      "cell_type": "code",
      "metadata": {
        "id": "FKegiXFRO4Fa",
        "outputId": "701f813c-eacb-434a-ddc0-23478e35fef8",
        "colab": {
          "base_uri": "https://localhost:8080/",
          "height": 419
        }
      },
      "source": [
        "merge_dataset.drop(['sex'],axis='columns')"
      ],
      "execution_count": 33,
      "outputs": [
        {
          "output_type": "execute_result",
          "data": {
            "text/html": [
              "<div>\n",
              "<style scoped>\n",
              "    .dataframe tbody tr th:only-of-type {\n",
              "        vertical-align: middle;\n",
              "    }\n",
              "\n",
              "    .dataframe tbody tr th {\n",
              "        vertical-align: top;\n",
              "    }\n",
              "\n",
              "    .dataframe thead th {\n",
              "        text-align: right;\n",
              "    }\n",
              "</style>\n",
              "<table border=\"1\" class=\"dataframe\">\n",
              "  <thead>\n",
              "    <tr style=\"text-align: right;\">\n",
              "      <th></th>\n",
              "      <th>age</th>\n",
              "      <th>bmi</th>\n",
              "      <th>children</th>\n",
              "      <th>smoker</th>\n",
              "      <th>region</th>\n",
              "      <th>charges</th>\n",
              "      <th>female</th>\n",
              "      <th>male</th>\n",
              "    </tr>\n",
              "  </thead>\n",
              "  <tbody>\n",
              "    <tr>\n",
              "      <th>0</th>\n",
              "      <td>19</td>\n",
              "      <td>27.900</td>\n",
              "      <td>0</td>\n",
              "      <td>yes</td>\n",
              "      <td>southwest</td>\n",
              "      <td>16884.92400</td>\n",
              "      <td>1</td>\n",
              "      <td>0</td>\n",
              "    </tr>\n",
              "    <tr>\n",
              "      <th>1</th>\n",
              "      <td>18</td>\n",
              "      <td>33.770</td>\n",
              "      <td>1</td>\n",
              "      <td>no</td>\n",
              "      <td>southeast</td>\n",
              "      <td>1725.55230</td>\n",
              "      <td>0</td>\n",
              "      <td>1</td>\n",
              "    </tr>\n",
              "    <tr>\n",
              "      <th>2</th>\n",
              "      <td>28</td>\n",
              "      <td>33.000</td>\n",
              "      <td>3</td>\n",
              "      <td>no</td>\n",
              "      <td>southeast</td>\n",
              "      <td>4449.46200</td>\n",
              "      <td>0</td>\n",
              "      <td>1</td>\n",
              "    </tr>\n",
              "    <tr>\n",
              "      <th>3</th>\n",
              "      <td>33</td>\n",
              "      <td>22.705</td>\n",
              "      <td>0</td>\n",
              "      <td>no</td>\n",
              "      <td>northwest</td>\n",
              "      <td>21984.47061</td>\n",
              "      <td>0</td>\n",
              "      <td>1</td>\n",
              "    </tr>\n",
              "    <tr>\n",
              "      <th>4</th>\n",
              "      <td>32</td>\n",
              "      <td>28.880</td>\n",
              "      <td>0</td>\n",
              "      <td>no</td>\n",
              "      <td>northwest</td>\n",
              "      <td>3866.85520</td>\n",
              "      <td>0</td>\n",
              "      <td>1</td>\n",
              "    </tr>\n",
              "    <tr>\n",
              "      <th>...</th>\n",
              "      <td>...</td>\n",
              "      <td>...</td>\n",
              "      <td>...</td>\n",
              "      <td>...</td>\n",
              "      <td>...</td>\n",
              "      <td>...</td>\n",
              "      <td>...</td>\n",
              "      <td>...</td>\n",
              "    </tr>\n",
              "    <tr>\n",
              "      <th>1333</th>\n",
              "      <td>50</td>\n",
              "      <td>30.970</td>\n",
              "      <td>3</td>\n",
              "      <td>no</td>\n",
              "      <td>northwest</td>\n",
              "      <td>10600.54830</td>\n",
              "      <td>0</td>\n",
              "      <td>1</td>\n",
              "    </tr>\n",
              "    <tr>\n",
              "      <th>1334</th>\n",
              "      <td>18</td>\n",
              "      <td>31.920</td>\n",
              "      <td>0</td>\n",
              "      <td>no</td>\n",
              "      <td>northeast</td>\n",
              "      <td>2205.98080</td>\n",
              "      <td>1</td>\n",
              "      <td>0</td>\n",
              "    </tr>\n",
              "    <tr>\n",
              "      <th>1335</th>\n",
              "      <td>18</td>\n",
              "      <td>36.850</td>\n",
              "      <td>0</td>\n",
              "      <td>no</td>\n",
              "      <td>southeast</td>\n",
              "      <td>1629.83350</td>\n",
              "      <td>1</td>\n",
              "      <td>0</td>\n",
              "    </tr>\n",
              "    <tr>\n",
              "      <th>1336</th>\n",
              "      <td>21</td>\n",
              "      <td>25.800</td>\n",
              "      <td>0</td>\n",
              "      <td>no</td>\n",
              "      <td>southwest</td>\n",
              "      <td>2007.94500</td>\n",
              "      <td>1</td>\n",
              "      <td>0</td>\n",
              "    </tr>\n",
              "    <tr>\n",
              "      <th>1337</th>\n",
              "      <td>61</td>\n",
              "      <td>29.070</td>\n",
              "      <td>0</td>\n",
              "      <td>yes</td>\n",
              "      <td>northwest</td>\n",
              "      <td>29141.36030</td>\n",
              "      <td>1</td>\n",
              "      <td>0</td>\n",
              "    </tr>\n",
              "  </tbody>\n",
              "</table>\n",
              "<p>1338 rows × 8 columns</p>\n",
              "</div>"
            ],
            "text/plain": [
              "      age     bmi  children smoker     region      charges  female  male\n",
              "0      19  27.900         0    yes  southwest  16884.92400       1     0\n",
              "1      18  33.770         1     no  southeast   1725.55230       0     1\n",
              "2      28  33.000         3     no  southeast   4449.46200       0     1\n",
              "3      33  22.705         0     no  northwest  21984.47061       0     1\n",
              "4      32  28.880         0     no  northwest   3866.85520       0     1\n",
              "...   ...     ...       ...    ...        ...          ...     ...   ...\n",
              "1333   50  30.970         3     no  northwest  10600.54830       0     1\n",
              "1334   18  31.920         0     no  northeast   2205.98080       1     0\n",
              "1335   18  36.850         0     no  southeast   1629.83350       1     0\n",
              "1336   21  25.800         0     no  southwest   2007.94500       1     0\n",
              "1337   61  29.070         0    yes  northwest  29141.36030       1     0\n",
              "\n",
              "[1338 rows x 8 columns]"
            ]
          },
          "metadata": {
            "tags": []
          },
          "execution_count": 33
        }
      ]
    },
    {
      "cell_type": "code",
      "metadata": {
        "id": "CywE_FK4O-Zv"
      },
      "source": [
        "df = dataset.copy()\n",
        "\n"
      ],
      "execution_count": 34,
      "outputs": []
    },
    {
      "cell_type": "code",
      "metadata": {
        "id": "wDNVMDwHSxcs"
      },
      "source": [
        "from sklearn.preprocessing import LabelEncoder"
      ],
      "execution_count": 35,
      "outputs": []
    },
    {
      "cell_type": "code",
      "metadata": {
        "id": "ee1n6he8S_Lk"
      },
      "source": [
        "le = LabelEncoder()\n",
        "merge_dataset.region = le.fit_transform(merge_dataset.region)"
      ],
      "execution_count": 41,
      "outputs": []
    },
    {
      "cell_type": "code",
      "metadata": {
        "id": "GkADFdYETV_I",
        "outputId": "72bea142-d236-4874-de5c-9f7597044d1d",
        "colab": {
          "base_uri": "https://localhost:8080/",
          "height": 419
        }
      },
      "source": [
        "merge_dataset"
      ],
      "execution_count": 42,
      "outputs": [
        {
          "output_type": "execute_result",
          "data": {
            "text/html": [
              "<div>\n",
              "<style scoped>\n",
              "    .dataframe tbody tr th:only-of-type {\n",
              "        vertical-align: middle;\n",
              "    }\n",
              "\n",
              "    .dataframe tbody tr th {\n",
              "        vertical-align: top;\n",
              "    }\n",
              "\n",
              "    .dataframe thead th {\n",
              "        text-align: right;\n",
              "    }\n",
              "</style>\n",
              "<table border=\"1\" class=\"dataframe\">\n",
              "  <thead>\n",
              "    <tr style=\"text-align: right;\">\n",
              "      <th></th>\n",
              "      <th>age</th>\n",
              "      <th>sex</th>\n",
              "      <th>bmi</th>\n",
              "      <th>children</th>\n",
              "      <th>smoker</th>\n",
              "      <th>region</th>\n",
              "      <th>charges</th>\n",
              "      <th>female</th>\n",
              "      <th>male</th>\n",
              "    </tr>\n",
              "  </thead>\n",
              "  <tbody>\n",
              "    <tr>\n",
              "      <th>0</th>\n",
              "      <td>19</td>\n",
              "      <td>female</td>\n",
              "      <td>27.900</td>\n",
              "      <td>0</td>\n",
              "      <td>yes</td>\n",
              "      <td>3</td>\n",
              "      <td>16884.92400</td>\n",
              "      <td>1</td>\n",
              "      <td>0</td>\n",
              "    </tr>\n",
              "    <tr>\n",
              "      <th>1</th>\n",
              "      <td>18</td>\n",
              "      <td>male</td>\n",
              "      <td>33.770</td>\n",
              "      <td>1</td>\n",
              "      <td>no</td>\n",
              "      <td>2</td>\n",
              "      <td>1725.55230</td>\n",
              "      <td>0</td>\n",
              "      <td>1</td>\n",
              "    </tr>\n",
              "    <tr>\n",
              "      <th>2</th>\n",
              "      <td>28</td>\n",
              "      <td>male</td>\n",
              "      <td>33.000</td>\n",
              "      <td>3</td>\n",
              "      <td>no</td>\n",
              "      <td>2</td>\n",
              "      <td>4449.46200</td>\n",
              "      <td>0</td>\n",
              "      <td>1</td>\n",
              "    </tr>\n",
              "    <tr>\n",
              "      <th>3</th>\n",
              "      <td>33</td>\n",
              "      <td>male</td>\n",
              "      <td>22.705</td>\n",
              "      <td>0</td>\n",
              "      <td>no</td>\n",
              "      <td>1</td>\n",
              "      <td>21984.47061</td>\n",
              "      <td>0</td>\n",
              "      <td>1</td>\n",
              "    </tr>\n",
              "    <tr>\n",
              "      <th>4</th>\n",
              "      <td>32</td>\n",
              "      <td>male</td>\n",
              "      <td>28.880</td>\n",
              "      <td>0</td>\n",
              "      <td>no</td>\n",
              "      <td>1</td>\n",
              "      <td>3866.85520</td>\n",
              "      <td>0</td>\n",
              "      <td>1</td>\n",
              "    </tr>\n",
              "    <tr>\n",
              "      <th>...</th>\n",
              "      <td>...</td>\n",
              "      <td>...</td>\n",
              "      <td>...</td>\n",
              "      <td>...</td>\n",
              "      <td>...</td>\n",
              "      <td>...</td>\n",
              "      <td>...</td>\n",
              "      <td>...</td>\n",
              "      <td>...</td>\n",
              "    </tr>\n",
              "    <tr>\n",
              "      <th>1333</th>\n",
              "      <td>50</td>\n",
              "      <td>male</td>\n",
              "      <td>30.970</td>\n",
              "      <td>3</td>\n",
              "      <td>no</td>\n",
              "      <td>1</td>\n",
              "      <td>10600.54830</td>\n",
              "      <td>0</td>\n",
              "      <td>1</td>\n",
              "    </tr>\n",
              "    <tr>\n",
              "      <th>1334</th>\n",
              "      <td>18</td>\n",
              "      <td>female</td>\n",
              "      <td>31.920</td>\n",
              "      <td>0</td>\n",
              "      <td>no</td>\n",
              "      <td>0</td>\n",
              "      <td>2205.98080</td>\n",
              "      <td>1</td>\n",
              "      <td>0</td>\n",
              "    </tr>\n",
              "    <tr>\n",
              "      <th>1335</th>\n",
              "      <td>18</td>\n",
              "      <td>female</td>\n",
              "      <td>36.850</td>\n",
              "      <td>0</td>\n",
              "      <td>no</td>\n",
              "      <td>2</td>\n",
              "      <td>1629.83350</td>\n",
              "      <td>1</td>\n",
              "      <td>0</td>\n",
              "    </tr>\n",
              "    <tr>\n",
              "      <th>1336</th>\n",
              "      <td>21</td>\n",
              "      <td>female</td>\n",
              "      <td>25.800</td>\n",
              "      <td>0</td>\n",
              "      <td>no</td>\n",
              "      <td>3</td>\n",
              "      <td>2007.94500</td>\n",
              "      <td>1</td>\n",
              "      <td>0</td>\n",
              "    </tr>\n",
              "    <tr>\n",
              "      <th>1337</th>\n",
              "      <td>61</td>\n",
              "      <td>female</td>\n",
              "      <td>29.070</td>\n",
              "      <td>0</td>\n",
              "      <td>yes</td>\n",
              "      <td>1</td>\n",
              "      <td>29141.36030</td>\n",
              "      <td>1</td>\n",
              "      <td>0</td>\n",
              "    </tr>\n",
              "  </tbody>\n",
              "</table>\n",
              "<p>1338 rows × 9 columns</p>\n",
              "</div>"
            ],
            "text/plain": [
              "      age     sex     bmi  children smoker  region      charges  female  male\n",
              "0      19  female  27.900         0    yes       3  16884.92400       1     0\n",
              "1      18    male  33.770         1     no       2   1725.55230       0     1\n",
              "2      28    male  33.000         3     no       2   4449.46200       0     1\n",
              "3      33    male  22.705         0     no       1  21984.47061       0     1\n",
              "4      32    male  28.880         0     no       1   3866.85520       0     1\n",
              "...   ...     ...     ...       ...    ...     ...          ...     ...   ...\n",
              "1333   50    male  30.970         3     no       1  10600.54830       0     1\n",
              "1334   18  female  31.920         0     no       0   2205.98080       1     0\n",
              "1335   18  female  36.850         0     no       2   1629.83350       1     0\n",
              "1336   21  female  25.800         0     no       3   2007.94500       1     0\n",
              "1337   61  female  29.070         0    yes       1  29141.36030       1     0\n",
              "\n",
              "[1338 rows x 9 columns]"
            ]
          },
          "metadata": {
            "tags": []
          },
          "execution_count": 42
        }
      ]
    },
    {
      "cell_type": "code",
      "metadata": {
        "id": "hOZZBEOzUEMs",
        "outputId": "345532eb-d72b-4a4a-e2a3-5cb09d67c122",
        "colab": {
          "base_uri": "https://localhost:8080/",
          "height": 419
        }
      },
      "source": [
        "merge_dataset.smoker=le.fit_transform(merge_dataset.smoker)\n",
        "merge_dataset"
      ],
      "execution_count": 46,
      "outputs": [
        {
          "output_type": "execute_result",
          "data": {
            "text/html": [
              "<div>\n",
              "<style scoped>\n",
              "    .dataframe tbody tr th:only-of-type {\n",
              "        vertical-align: middle;\n",
              "    }\n",
              "\n",
              "    .dataframe tbody tr th {\n",
              "        vertical-align: top;\n",
              "    }\n",
              "\n",
              "    .dataframe thead th {\n",
              "        text-align: right;\n",
              "    }\n",
              "</style>\n",
              "<table border=\"1\" class=\"dataframe\">\n",
              "  <thead>\n",
              "    <tr style=\"text-align: right;\">\n",
              "      <th></th>\n",
              "      <th>age</th>\n",
              "      <th>sex</th>\n",
              "      <th>bmi</th>\n",
              "      <th>children</th>\n",
              "      <th>smoker</th>\n",
              "      <th>region</th>\n",
              "      <th>charges</th>\n",
              "      <th>female</th>\n",
              "      <th>male</th>\n",
              "    </tr>\n",
              "  </thead>\n",
              "  <tbody>\n",
              "    <tr>\n",
              "      <th>0</th>\n",
              "      <td>19</td>\n",
              "      <td>female</td>\n",
              "      <td>27.900</td>\n",
              "      <td>0</td>\n",
              "      <td>1</td>\n",
              "      <td>3</td>\n",
              "      <td>16884.92400</td>\n",
              "      <td>1</td>\n",
              "      <td>0</td>\n",
              "    </tr>\n",
              "    <tr>\n",
              "      <th>1</th>\n",
              "      <td>18</td>\n",
              "      <td>male</td>\n",
              "      <td>33.770</td>\n",
              "      <td>1</td>\n",
              "      <td>0</td>\n",
              "      <td>2</td>\n",
              "      <td>1725.55230</td>\n",
              "      <td>0</td>\n",
              "      <td>1</td>\n",
              "    </tr>\n",
              "    <tr>\n",
              "      <th>2</th>\n",
              "      <td>28</td>\n",
              "      <td>male</td>\n",
              "      <td>33.000</td>\n",
              "      <td>3</td>\n",
              "      <td>0</td>\n",
              "      <td>2</td>\n",
              "      <td>4449.46200</td>\n",
              "      <td>0</td>\n",
              "      <td>1</td>\n",
              "    </tr>\n",
              "    <tr>\n",
              "      <th>3</th>\n",
              "      <td>33</td>\n",
              "      <td>male</td>\n",
              "      <td>22.705</td>\n",
              "      <td>0</td>\n",
              "      <td>0</td>\n",
              "      <td>1</td>\n",
              "      <td>21984.47061</td>\n",
              "      <td>0</td>\n",
              "      <td>1</td>\n",
              "    </tr>\n",
              "    <tr>\n",
              "      <th>4</th>\n",
              "      <td>32</td>\n",
              "      <td>male</td>\n",
              "      <td>28.880</td>\n",
              "      <td>0</td>\n",
              "      <td>0</td>\n",
              "      <td>1</td>\n",
              "      <td>3866.85520</td>\n",
              "      <td>0</td>\n",
              "      <td>1</td>\n",
              "    </tr>\n",
              "    <tr>\n",
              "      <th>...</th>\n",
              "      <td>...</td>\n",
              "      <td>...</td>\n",
              "      <td>...</td>\n",
              "      <td>...</td>\n",
              "      <td>...</td>\n",
              "      <td>...</td>\n",
              "      <td>...</td>\n",
              "      <td>...</td>\n",
              "      <td>...</td>\n",
              "    </tr>\n",
              "    <tr>\n",
              "      <th>1333</th>\n",
              "      <td>50</td>\n",
              "      <td>male</td>\n",
              "      <td>30.970</td>\n",
              "      <td>3</td>\n",
              "      <td>0</td>\n",
              "      <td>1</td>\n",
              "      <td>10600.54830</td>\n",
              "      <td>0</td>\n",
              "      <td>1</td>\n",
              "    </tr>\n",
              "    <tr>\n",
              "      <th>1334</th>\n",
              "      <td>18</td>\n",
              "      <td>female</td>\n",
              "      <td>31.920</td>\n",
              "      <td>0</td>\n",
              "      <td>0</td>\n",
              "      <td>0</td>\n",
              "      <td>2205.98080</td>\n",
              "      <td>1</td>\n",
              "      <td>0</td>\n",
              "    </tr>\n",
              "    <tr>\n",
              "      <th>1335</th>\n",
              "      <td>18</td>\n",
              "      <td>female</td>\n",
              "      <td>36.850</td>\n",
              "      <td>0</td>\n",
              "      <td>0</td>\n",
              "      <td>2</td>\n",
              "      <td>1629.83350</td>\n",
              "      <td>1</td>\n",
              "      <td>0</td>\n",
              "    </tr>\n",
              "    <tr>\n",
              "      <th>1336</th>\n",
              "      <td>21</td>\n",
              "      <td>female</td>\n",
              "      <td>25.800</td>\n",
              "      <td>0</td>\n",
              "      <td>0</td>\n",
              "      <td>3</td>\n",
              "      <td>2007.94500</td>\n",
              "      <td>1</td>\n",
              "      <td>0</td>\n",
              "    </tr>\n",
              "    <tr>\n",
              "      <th>1337</th>\n",
              "      <td>61</td>\n",
              "      <td>female</td>\n",
              "      <td>29.070</td>\n",
              "      <td>0</td>\n",
              "      <td>1</td>\n",
              "      <td>1</td>\n",
              "      <td>29141.36030</td>\n",
              "      <td>1</td>\n",
              "      <td>0</td>\n",
              "    </tr>\n",
              "  </tbody>\n",
              "</table>\n",
              "<p>1338 rows × 9 columns</p>\n",
              "</div>"
            ],
            "text/plain": [
              "      age     sex     bmi  children  smoker  region      charges  female  male\n",
              "0      19  female  27.900         0       1       3  16884.92400       1     0\n",
              "1      18    male  33.770         1       0       2   1725.55230       0     1\n",
              "2      28    male  33.000         3       0       2   4449.46200       0     1\n",
              "3      33    male  22.705         0       0       1  21984.47061       0     1\n",
              "4      32    male  28.880         0       0       1   3866.85520       0     1\n",
              "...   ...     ...     ...       ...     ...     ...          ...     ...   ...\n",
              "1333   50    male  30.970         3       0       1  10600.54830       0     1\n",
              "1334   18  female  31.920         0       0       0   2205.98080       1     0\n",
              "1335   18  female  36.850         0       0       2   1629.83350       1     0\n",
              "1336   21  female  25.800         0       0       3   2007.94500       1     0\n",
              "1337   61  female  29.070         0       1       1  29141.36030       1     0\n",
              "\n",
              "[1338 rows x 9 columns]"
            ]
          },
          "metadata": {
            "tags": []
          },
          "execution_count": 46
        }
      ]
    },
    {
      "cell_type": "code",
      "metadata": {
        "id": "8t-fsc33GYg1"
      },
      "source": [
        "from sklearn.model_selection import train_test_split\n",
        "X = merge_dataset[['age','bmi','charges','region','male','female']]\n",
        "Y = merge_dataset['smoker']\n"
      ],
      "execution_count": 48,
      "outputs": []
    },
    {
      "cell_type": "code",
      "metadata": {
        "id": "Jl-rANkfUBxe"
      },
      "source": [
        "X_train,X_test,y_train,y_test =train_test_split(X,Y,test_size= 0.2)"
      ],
      "execution_count": 49,
      "outputs": []
    },
    {
      "cell_type": "code",
      "metadata": {
        "id": "xzuJq-hNU8Bj"
      },
      "source": [
        "from sklearn.linear_model import LogisticRegression"
      ],
      "execution_count": 51,
      "outputs": []
    },
    {
      "cell_type": "code",
      "metadata": {
        "id": "6MhYrsMbVEsQ"
      },
      "source": [
        "model = LogisticRegression()"
      ],
      "execution_count": 53,
      "outputs": []
    },
    {
      "cell_type": "code",
      "metadata": {
        "id": "1Sgk_nENVc-a",
        "outputId": "5080c7a0-d9f5-4301-eeb4-734ffcd9e5d4",
        "colab": {
          "base_uri": "https://localhost:8080/",
          "height": 102
        }
      },
      "source": [
        "model.fit(X_train,y_train)"
      ],
      "execution_count": 54,
      "outputs": [
        {
          "output_type": "execute_result",
          "data": {
            "text/plain": [
              "LogisticRegression(C=1.0, class_weight=None, dual=False, fit_intercept=True,\n",
              "                   intercept_scaling=1, l1_ratio=None, max_iter=100,\n",
              "                   multi_class='auto', n_jobs=None, penalty='l2',\n",
              "                   random_state=None, solver='lbfgs', tol=0.0001, verbose=0,\n",
              "                   warm_start=False)"
            ]
          },
          "metadata": {
            "tags": []
          },
          "execution_count": 54
        }
      ]
    },
    {
      "cell_type": "code",
      "metadata": {
        "id": "tvoFq5oMVxbA",
        "outputId": "b8ee596a-419c-45be-94f7-b701a1373487",
        "colab": {
          "base_uri": "https://localhost:8080/",
          "height": 1000
        }
      },
      "source": [
        "model.predict_proba(X_test)"
      ],
      "execution_count": 61,
      "outputs": [
        {
          "output_type": "execute_result",
          "data": {
            "text/plain": [
              "array([[9.97324129e-01, 2.67587072e-03],\n",
              "       [9.98844936e-01, 1.15506365e-03],\n",
              "       [2.70175022e-03, 9.97298250e-01],\n",
              "       [9.98892638e-01, 1.10736234e-03],\n",
              "       [9.98825148e-01, 1.17485199e-03],\n",
              "       [5.47590302e-01, 4.52409698e-01],\n",
              "       [9.99840219e-01, 1.59780623e-04],\n",
              "       [5.01181554e-01, 4.98818446e-01],\n",
              "       [1.01176967e-01, 8.98823033e-01],\n",
              "       [9.98117248e-01, 1.88275234e-03],\n",
              "       [1.91424863e-01, 8.08575137e-01],\n",
              "       [9.82832664e-01, 1.71673358e-02],\n",
              "       [9.99732558e-01, 2.67441576e-04],\n",
              "       [9.49410714e-01, 5.05892863e-02],\n",
              "       [7.34286288e-03, 9.92657137e-01],\n",
              "       [9.93528262e-01, 6.47173840e-03],\n",
              "       [9.98166874e-01, 1.83312585e-03],\n",
              "       [9.99678637e-01, 3.21362783e-04],\n",
              "       [9.94652401e-01, 5.34759869e-03],\n",
              "       [9.82820334e-01, 1.71796656e-02],\n",
              "       [9.89704413e-01, 1.02955873e-02],\n",
              "       [9.97946287e-01, 2.05371303e-03],\n",
              "       [9.94679905e-01, 5.32009499e-03],\n",
              "       [9.62003602e-01, 3.79963981e-02],\n",
              "       [9.64111413e-01, 3.58885870e-02],\n",
              "       [9.72925283e-01, 2.70747170e-02],\n",
              "       [9.66042448e-01, 3.39575521e-02],\n",
              "       [9.82250136e-01, 1.77498641e-02],\n",
              "       [9.96905140e-01, 3.09485993e-03],\n",
              "       [6.02483682e-01, 3.97516318e-01],\n",
              "       [9.93988356e-01, 6.01164422e-03],\n",
              "       [8.83048927e-01, 1.16951073e-01],\n",
              "       [9.67288905e-01, 3.27110954e-02],\n",
              "       [9.84244992e-01, 1.57550083e-02],\n",
              "       [4.75478408e-01, 5.24521592e-01],\n",
              "       [9.93434081e-01, 6.56591882e-03],\n",
              "       [9.94452701e-01, 5.54729897e-03],\n",
              "       [9.97633091e-01, 2.36690881e-03],\n",
              "       [9.98443159e-01, 1.55684133e-03],\n",
              "       [9.98802531e-01, 1.19746912e-03],\n",
              "       [9.91963173e-01, 8.03682736e-03],\n",
              "       [9.97198894e-01, 2.80110646e-03],\n",
              "       [9.95129523e-01, 4.87047723e-03],\n",
              "       [9.95461609e-01, 4.53839052e-03],\n",
              "       [9.99126832e-01, 8.73168328e-04],\n",
              "       [9.91334217e-01, 8.66578315e-03],\n",
              "       [5.72211529e-01, 4.27788471e-01],\n",
              "       [9.98923585e-01, 1.07641515e-03],\n",
              "       [9.93267359e-01, 6.73264085e-03],\n",
              "       [9.76221823e-01, 2.37781767e-02],\n",
              "       [9.97887649e-01, 2.11235090e-03],\n",
              "       [9.97014246e-01, 2.98575445e-03],\n",
              "       [9.98801537e-01, 1.19846263e-03],\n",
              "       [9.97313489e-01, 2.68651080e-03],\n",
              "       [4.04933008e-01, 5.95066992e-01],\n",
              "       [9.90708328e-01, 9.29167189e-03],\n",
              "       [9.94816673e-01, 5.18332677e-03],\n",
              "       [9.88124452e-01, 1.18755480e-02],\n",
              "       [9.93813608e-01, 6.18639208e-03],\n",
              "       [8.39374668e-03, 9.91606253e-01],\n",
              "       [9.94925987e-01, 5.07401307e-03],\n",
              "       [9.87429541e-01, 1.25704594e-02],\n",
              "       [9.96185067e-01, 3.81493290e-03],\n",
              "       [9.96988895e-01, 3.01110481e-03],\n",
              "       [5.77066963e-01, 4.22933037e-01],\n",
              "       [9.94808769e-01, 5.19123085e-03],\n",
              "       [9.88307694e-01, 1.16923055e-02],\n",
              "       [9.84148698e-01, 1.58513023e-02],\n",
              "       [1.01277075e-02, 9.89872292e-01],\n",
              "       [9.99753702e-01, 2.46297999e-04],\n",
              "       [9.77214606e-01, 2.27853935e-02],\n",
              "       [9.93318278e-01, 6.68172167e-03],\n",
              "       [7.47214448e-01, 2.52785552e-01],\n",
              "       [9.97724607e-01, 2.27539350e-03],\n",
              "       [9.82980633e-01, 1.70193668e-02],\n",
              "       [1.37988316e-02, 9.86201168e-01],\n",
              "       [9.87944207e-01, 1.20557932e-02],\n",
              "       [9.96350360e-01, 3.64964043e-03],\n",
              "       [9.87215507e-01, 1.27844925e-02],\n",
              "       [9.98904020e-01, 1.09598011e-03],\n",
              "       [9.98999799e-01, 1.00020079e-03],\n",
              "       [9.95891621e-01, 4.10837950e-03],\n",
              "       [9.95063301e-01, 4.93669939e-03],\n",
              "       [9.94615170e-01, 5.38482954e-03],\n",
              "       [9.97540470e-01, 2.45953009e-03],\n",
              "       [8.77751917e-01, 1.22248083e-01],\n",
              "       [3.96162218e-01, 6.03837782e-01],\n",
              "       [9.33849679e-01, 6.61503214e-02],\n",
              "       [7.12489208e-03, 9.92875108e-01],\n",
              "       [9.97881171e-01, 2.11882941e-03],\n",
              "       [9.92308052e-01, 7.69194815e-03],\n",
              "       [5.66323799e-03, 9.94336762e-01],\n",
              "       [9.76328200e-01, 2.36717995e-02],\n",
              "       [9.93863780e-01, 6.13622010e-03],\n",
              "       [9.97703093e-01, 2.29690693e-03],\n",
              "       [9.94742225e-01, 5.25777463e-03],\n",
              "       [4.66918613e-01, 5.33081387e-01],\n",
              "       [5.47688271e-03, 9.94523117e-01],\n",
              "       [9.91565496e-01, 8.43450441e-03],\n",
              "       [9.94847461e-01, 5.15253925e-03],\n",
              "       [9.94140860e-01, 5.85913953e-03],\n",
              "       [9.95620679e-01, 4.37932105e-03],\n",
              "       [9.65893976e-01, 3.41060237e-02],\n",
              "       [9.94658216e-01, 5.34178385e-03],\n",
              "       [9.62768832e-01, 3.72311679e-02],\n",
              "       [2.34684790e-03, 9.97653152e-01],\n",
              "       [9.96273528e-01, 3.72647202e-03],\n",
              "       [1.11556002e-02, 9.88844400e-01],\n",
              "       [5.07768730e-01, 4.92231270e-01],\n",
              "       [7.80317588e-03, 9.92196824e-01],\n",
              "       [9.98749367e-01, 1.25063277e-03],\n",
              "       [9.98549964e-01, 1.45003596e-03],\n",
              "       [2.73770723e-06, 9.99997262e-01],\n",
              "       [4.74985631e-03, 9.95250144e-01],\n",
              "       [9.94169775e-01, 5.83022467e-03],\n",
              "       [9.95972996e-01, 4.02700395e-03],\n",
              "       [9.95513176e-01, 4.48682382e-03],\n",
              "       [9.96506773e-01, 3.49322699e-03],\n",
              "       [9.98197588e-01, 1.80241244e-03],\n",
              "       [9.99079105e-01, 9.20894917e-04],\n",
              "       [9.97708055e-01, 2.29194513e-03],\n",
              "       [9.98846041e-01, 1.15395928e-03],\n",
              "       [9.95147282e-01, 4.85271799e-03],\n",
              "       [9.93626168e-01, 6.37383238e-03],\n",
              "       [9.94114728e-01, 5.88527225e-03],\n",
              "       [9.74703338e-01, 2.52966616e-02],\n",
              "       [9.99105610e-01, 8.94389514e-04],\n",
              "       [9.85723043e-01, 1.42769571e-02],\n",
              "       [9.84850187e-01, 1.51498128e-02],\n",
              "       [9.90740043e-01, 9.25995680e-03],\n",
              "       [9.84505803e-01, 1.54941967e-02],\n",
              "       [6.01303904e-01, 3.98696096e-01],\n",
              "       [7.33922070e-01, 2.66077930e-01],\n",
              "       [9.88104193e-01, 1.18958073e-02],\n",
              "       [9.85941634e-01, 1.40583662e-02],\n",
              "       [9.91128109e-01, 8.87189135e-03],\n",
              "       [9.98138433e-01, 1.86156748e-03],\n",
              "       [3.88188200e-01, 6.11811800e-01],\n",
              "       [9.95783754e-01, 4.21624627e-03],\n",
              "       [9.93255464e-01, 6.74453601e-03],\n",
              "       [9.84290974e-01, 1.57090264e-02],\n",
              "       [9.98650111e-01, 1.34988935e-03],\n",
              "       [9.96805137e-01, 3.19486297e-03],\n",
              "       [9.69673539e-01, 3.03264606e-02],\n",
              "       [9.81983032e-01, 1.80169683e-02],\n",
              "       [9.96155675e-01, 3.84432530e-03],\n",
              "       [9.94369306e-01, 5.63069412e-03],\n",
              "       [9.97945061e-01, 2.05493934e-03],\n",
              "       [9.93504065e-01, 6.49593463e-03],\n",
              "       [5.06130012e-03, 9.94938700e-01],\n",
              "       [9.98855541e-01, 1.14445871e-03],\n",
              "       [9.95793779e-01, 4.20622101e-03],\n",
              "       [9.98695021e-01, 1.30497923e-03],\n",
              "       [9.86224029e-01, 1.37759715e-02],\n",
              "       [9.91348873e-01, 8.65112683e-03],\n",
              "       [9.52279057e-01, 4.77209431e-02],\n",
              "       [8.90046001e-01, 1.09953999e-01],\n",
              "       [9.93445857e-01, 6.55414264e-03],\n",
              "       [3.98078210e-01, 6.01921790e-01],\n",
              "       [9.99141278e-01, 8.58721820e-04],\n",
              "       [9.59583257e-01, 4.04167428e-02],\n",
              "       [6.25580295e-01, 3.74419705e-01],\n",
              "       [9.94984620e-01, 5.01537984e-03],\n",
              "       [9.97660826e-01, 2.33917383e-03],\n",
              "       [9.93805043e-01, 6.19495687e-03],\n",
              "       [9.89095010e-01, 1.09049897e-02],\n",
              "       [9.78900258e-01, 2.10997420e-02],\n",
              "       [3.25819736e-01, 6.74180264e-01],\n",
              "       [9.96600083e-01, 3.39991699e-03],\n",
              "       [9.66435688e-01, 3.35643121e-02],\n",
              "       [9.94985200e-01, 5.01480029e-03],\n",
              "       [9.87831384e-01, 1.21686161e-02],\n",
              "       [9.70828633e-01, 2.91713667e-02],\n",
              "       [9.92272126e-01, 7.72787377e-03],\n",
              "       [9.98706780e-01, 1.29322036e-03],\n",
              "       [7.70441463e-03, 9.92295585e-01],\n",
              "       [9.99763374e-01, 2.36626289e-04],\n",
              "       [9.98282320e-01, 1.71767999e-03],\n",
              "       [1.12067857e-02, 9.88793214e-01],\n",
              "       [9.95479128e-01, 4.52087211e-03],\n",
              "       [9.98064254e-01, 1.93574591e-03],\n",
              "       [3.45581485e-03, 9.96544185e-01],\n",
              "       [9.92916475e-01, 7.08352503e-03],\n",
              "       [8.12791953e-01, 1.87208047e-01],\n",
              "       [9.96208226e-01, 3.79177428e-03],\n",
              "       [9.79905338e-01, 2.00946621e-02],\n",
              "       [3.76608267e-03, 9.96233917e-01],\n",
              "       [7.10270979e-03, 9.92897290e-01],\n",
              "       [9.86946815e-01, 1.30531854e-02],\n",
              "       [9.97612398e-01, 2.38760192e-03],\n",
              "       [9.96005527e-01, 3.99447298e-03],\n",
              "       [9.95614948e-01, 4.38505163e-03],\n",
              "       [4.05195725e-01, 5.94804275e-01],\n",
              "       [9.98725351e-01, 1.27464900e-03],\n",
              "       [9.70613843e-01, 2.93861571e-02],\n",
              "       [9.96534046e-01, 3.46595399e-03],\n",
              "       [1.14543628e-02, 9.88545637e-01],\n",
              "       [9.98828927e-01, 1.17107257e-03],\n",
              "       [9.95070009e-01, 4.92999086e-03],\n",
              "       [9.97751963e-01, 2.24803651e-03],\n",
              "       [9.93339837e-01, 6.66016278e-03],\n",
              "       [9.71204242e-01, 2.87957581e-02],\n",
              "       [3.91038145e-01, 6.08961855e-01],\n",
              "       [9.99251346e-01, 7.48653667e-04],\n",
              "       [9.40383799e-01, 5.96162009e-02],\n",
              "       [9.91362085e-01, 8.63791522e-03],\n",
              "       [9.97172482e-01, 2.82751820e-03],\n",
              "       [7.12102715e-03, 9.92878973e-01],\n",
              "       [9.97597150e-01, 2.40284970e-03],\n",
              "       [4.20569639e-03, 9.95794304e-01],\n",
              "       [4.51302141e-01, 5.48697859e-01],\n",
              "       [9.97508829e-01, 2.49117146e-03],\n",
              "       [9.54401325e-01, 4.55986749e-02],\n",
              "       [9.90997769e-01, 9.00223094e-03],\n",
              "       [9.99566085e-01, 4.33915298e-04],\n",
              "       [9.95916892e-01, 4.08310835e-03],\n",
              "       [9.88457858e-03, 9.90115421e-01],\n",
              "       [9.94790413e-01, 5.20958658e-03],\n",
              "       [9.97587816e-01, 2.41218412e-03],\n",
              "       [9.96339765e-01, 3.66023478e-03],\n",
              "       [5.93847610e-01, 4.06152390e-01],\n",
              "       [9.92934622e-01, 7.06537782e-03],\n",
              "       [2.43676802e-01, 7.56323198e-01],\n",
              "       [9.85365660e-01, 1.46343398e-02],\n",
              "       [9.93090301e-01, 6.90969941e-03],\n",
              "       [9.99591260e-01, 4.08739527e-04],\n",
              "       [9.99447034e-01, 5.52966414e-04],\n",
              "       [9.59711496e-01, 4.02885035e-02],\n",
              "       [9.93882778e-01, 6.11722183e-03],\n",
              "       [6.64067044e-03, 9.93359330e-01],\n",
              "       [9.94773421e-01, 5.22657941e-03],\n",
              "       [9.97266323e-01, 2.73367716e-03],\n",
              "       [6.05285619e-01, 3.94714381e-01],\n",
              "       [3.60300152e-03, 9.96396998e-01],\n",
              "       [9.93865079e-01, 6.13492073e-03],\n",
              "       [9.91815637e-01, 8.18436259e-03],\n",
              "       [9.77996647e-01, 2.20033534e-02],\n",
              "       [9.92305266e-01, 7.69473428e-03],\n",
              "       [9.96452256e-01, 3.54774385e-03],\n",
              "       [9.85788622e-01, 1.42113784e-02],\n",
              "       [3.89837068e-01, 6.10162932e-01],\n",
              "       [9.93154774e-01, 6.84522596e-03],\n",
              "       [9.97922527e-01, 2.07747288e-03],\n",
              "       [9.79181505e-01, 2.08184946e-02],\n",
              "       [3.53378215e-01, 6.46621785e-01],\n",
              "       [9.97588486e-01, 2.41151418e-03],\n",
              "       [7.67286942e-02, 9.23271306e-01],\n",
              "       [9.83146435e-01, 1.68535650e-02],\n",
              "       [1.07557753e-02, 9.89244225e-01],\n",
              "       [9.91316808e-01, 8.68319247e-03],\n",
              "       [9.92339301e-01, 7.66069914e-03],\n",
              "       [9.72757449e-01, 2.72425506e-02],\n",
              "       [2.63544680e-01, 7.36455320e-01],\n",
              "       [9.95272453e-01, 4.72754727e-03],\n",
              "       [9.95774337e-01, 4.22566270e-03],\n",
              "       [9.95847292e-01, 4.15270849e-03],\n",
              "       [4.59273406e-01, 5.40726594e-01],\n",
              "       [9.94916093e-01, 5.08390715e-03],\n",
              "       [9.99556830e-01, 4.43169565e-04],\n",
              "       [9.95674592e-01, 4.32540832e-03],\n",
              "       [4.06505705e-01, 5.93494295e-01],\n",
              "       [9.99568393e-01, 4.31606518e-04],\n",
              "       [9.95388533e-01, 4.61146693e-03],\n",
              "       [6.33211410e-01, 3.66788590e-01],\n",
              "       [9.93274071e-01, 6.72592929e-03],\n",
              "       [9.96356813e-01, 3.64318680e-03],\n",
              "       [9.89441191e-01, 1.05588088e-02],\n",
              "       [9.85987870e-01, 1.40121302e-02]])"
            ]
          },
          "metadata": {
            "tags": []
          },
          "execution_count": 61
        }
      ]
    },
    {
      "cell_type": "code",
      "metadata": {
        "id": "a0OYoP0GV4k3",
        "outputId": "fda594a8-acb5-4484-b760-b847634ba93b",
        "colab": {
          "base_uri": "https://localhost:8080/",
          "height": 34
        }
      },
      "source": [
        "model.score(X_test,y_test)"
      ],
      "execution_count": 62,
      "outputs": [
        {
          "output_type": "execute_result",
          "data": {
            "text/plain": [
              "0.9477611940298507"
            ]
          },
          "metadata": {
            "tags": []
          },
          "execution_count": 62
        }
      ]
    },
    {
      "cell_type": "code",
      "metadata": {
        "id": "PqegdGglWwyM",
        "outputId": "7075c1a8-64d9-46a7-c544-7778955bef3a",
        "colab": {
          "base_uri": "https://localhost:8080/",
          "height": 34
        }
      },
      "source": [
        "model.predict([[10,27,20996,2,1,1]])"
      ],
      "execution_count": 71,
      "outputs": [
        {
          "output_type": "execute_result",
          "data": {
            "text/plain": [
              "array([1])"
            ]
          },
          "metadata": {
            "tags": []
          },
          "execution_count": 71
        }
      ]
    },
    {
      "cell_type": "code",
      "metadata": {
        "id": "LF8OUPksXCTl"
      },
      "source": [
        ""
      ],
      "execution_count": null,
      "outputs": []
    }
  ]
}